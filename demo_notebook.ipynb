{
 "cells": [
  {
   "cell_type": "code",
   "execution_count": null,
   "metadata": {},
   "outputs": [],
   "source": []
  },
  {
   "cell_type": "code",
   "execution_count": 30,
   "metadata": {},
   "outputs": [],
   "source": [
    "import numpy as np\n",
    "import matplotlib.pyplot as plt \n",
    "import imageio\n",
    "import cv2 \n",
    "\n",
    "from object_track_class import Object_Tracker"
   ]
  },
  {
   "cell_type": "code",
   "execution_count": 31,
   "metadata": {},
   "outputs": [],
   "source": [
    "################\n",
    "# helper funcs #\n",
    "################\n",
    "\n",
    "##\n",
    "# gif reader\n",
    "# https://stackoverflow.com/questions/48163539/how-to-read-gif-from-url-using-opencv-python\n",
    "##\n",
    "def read_gif_data(filename):\n",
    "    gif = imageio.mimread(filename)\n",
    "    f,r,c,ch = np.array(gif).shape\n",
    "    imgs = np.array([cv2.cvtColor(img, cv2.COLOR_RGB2GRAY) for img in gif])\n",
    "    return imgs/np.max(imgs)\n",
    "\n",
    "##\n",
    "# down sample\n",
    "# https://stackoverflow.com/questions/34231244/downsampling-a-2d-numpy-array-in-python/34232507\n",
    "##\n",
    "def downsample(img_arr, factor):\n",
    "    return img_arr[:, ::factor, ::factor]\n",
    "\n",
    "#######\n",
    "\n",
    "################\n",
    "# read in data #\n",
    "################\n",
    "fname = \"btyMo96pc.gif\"\n",
    "\n",
    "im_gif = downsample(read_gif_data(fname), 5)\n",
    "\n",
    "num_frames, row, col = im_gif.shape\n",
    "\n",
    "fnum = 3\n",
    "im_gif_process = im_gif[fnum:fnum+2,:,:]\n"
   ]
  },
  {
   "cell_type": "code",
   "execution_count": 32,
   "metadata": {},
   "outputs": [],
   "source": [
    "###################\n",
    "# Object Tracking #\n",
    "###################\n",
    "\n",
    "Obj_Track = Object_Tracker()\n",
    "Obj_Track.Track_Obj(im_gif_process)\n",
    "\n",
    "seg_mask = Obj_Track.seg_mask\n",
    "vx = Obj_Track.of_mapx\n",
    "vy = Obj_Track.of_mapy\n"
   ]
  },
  {
   "cell_type": "code",
   "execution_count": 33,
   "metadata": {},
   "outputs": [],
   "source": [
    "ds_mask = downsample(seg_mask.reshape(1, row, col), 2)[0,:,:]\n",
    "ds_img = downsample(im_gif_process,2)\n",
    "frame0 = ds_img[0,:,:]\n",
    "frame1 = ds_img[1,:,:]\n",
    "\n",
    "r, c = frame0.shape\n",
    "vx = vx.reshape(r,c)\n",
    "vx = vx\n",
    "vy = vy.reshape(r,c)\n",
    "vy = vy\n",
    "\n"
   ]
  },
  {
   "cell_type": "code",
   "execution_count": 34,
   "metadata": {},
   "outputs": [
    {
     "name": "stdout",
     "output_type": "stream",
     "text": [
      "0.0 0.0\n",
      "0.0 0.0\n"
     ]
    },
    {
     "data": {
      "image/png": "[encoded data removed]",
      "text/plain": [
       "<Figure size 1800x1200 with 4 Axes>"
      ]
     },
     "metadata": {
      "needs_background": "light"
     },
     "output_type": "display_data"
    }
   ],
   "source": [
    "########\n",
    "# plot #\n",
    "########\n",
    "\n",
    "print(np.min(vx), np.max(vx))\n",
    "print(np.min(vy), np.max(vy))\n",
    "\n",
    "\n",
    "f1, ax = plt.subplots(2,2)\n",
    "\n",
    "a3 = ax[0,0].imshow(frame0, cmap=\"gray\", vmin=0, vmax=1)\n",
    "ax[0,0].set_title(\"a) Original Frame\", fontsize=5)\n",
    "a3.axes.get_xaxis().set_visible(False)\n",
    "a3.axes.get_yaxis().set_visible(False)\n",
    "\n",
    "a4 = ax[0,1].imshow(ds_mask, cmap=\"gray\")\n",
    "ax[0,1].set_title(\"b) Segmentation Mask\", fontsize=5)\n",
    "a4.axes.get_xaxis().set_visible(False)\n",
    "a4.axes.get_yaxis().set_visible(False)\n",
    "\n",
    "a1 = ax[1,0].imshow(vx, cmap=\"bwr\", interpolation=\"nearest\", vmin=-1, vmax=1)\n",
    "ax[1,0].set_title(\"c) $V_{x}$\", fontsize=5)\n",
    "a1.axes.get_xaxis().set_visible(False)\n",
    "a1.axes.get_yaxis().set_visible(False)\n",
    "\n",
    "a2 = ax[1,1].imshow(vy, cmap=\"bwr\", interpolation=\"nearest\", vmin=-1, vmax=1)\n",
    "ax[1,1].set_title(\"d) $V_{y}$\", fontsize=5)\n",
    "a2.axes.get_xaxis().set_visible(False)\n",
    "a2.axes.get_yaxis().set_visible(False)\n",
    "\n",
    "f1.set_dpi(300)\n",
    "f1.tight_layout(rect=[0,0,0.6,1])\n",
    "\n"
   ]
  },
  {
   "cell_type": "code",
   "execution_count": null,
   "metadata": {},
   "outputs": [],
   "source": []
  },
  {
   "cell_type": "code",
   "execution_count": null,
   "metadata": {},
   "outputs": [],
   "source": []
  },
  {
   "cell_type": "code",
   "execution_count": null,
   "metadata": {},
   "outputs": [],
   "source": []
  }
 ],
 "metadata": {
  "interpreter": {
   "hash": "69a98bfc44e952365ff1df32860ce9b133e10b9771a929e18a894d7fd185ebc7"
  },
  "kernelspec": {
   "display_name": "Python 3.6.8 64-bit ('tmp_venv': venv)",
   "language": "python",
   "name": "python3"
  },
  "language_info": {
   "codemirror_mode": {
    "name": "ipython",
    "version": 3
   },
   "file_extension": ".py",
   "mimetype": "text/x-python",
   "name": "python",
   "nbconvert_exporter": "python",
   "pygments_lexer": "ipython3",
   "version": "3.6.8"
  },
  "orig_nbformat": 4
 },
 "nbformat": 4,
 "nbformat_minor": 2
}
