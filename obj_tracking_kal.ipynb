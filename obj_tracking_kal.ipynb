{
 "cells": [
  {
   "cell_type": "code",
   "execution_count": null,
   "metadata": {},
   "outputs": [],
   "source": []
  },
  {
   "cell_type": "code",
   "execution_count": null,
   "metadata": {},
   "outputs": [],
   "source": [
    "import numpy as np\n",
    "import matplotlib.pyplot as plt \n",
    "import glob\n",
    "import imageio\n",
    "import cv2 \n",
    "\n",
    "from object_track_class import Object_Tracker"
   ]
  },
  {
   "cell_type": "code",
   "execution_count": null,
   "metadata": {},
   "outputs": [],
   "source": [
    "################\n",
    "# helper funcs #\n",
    "################\n",
    "\n",
    "##\n",
    "# gif reader\n",
    "# https://stackoverflow.com/questions/48163539/how-to-read-gif-from-url-using-opencv-python\n",
    "##\n",
    "def read_gif_data(filename):\n",
    "    gif = imageio.mimread(filename)\n",
    "    f,r,c,ch = np.array(gif).shape\n",
    "    imgs = np.array([cv2.cvtColor(img, cv2.COLOR_RGB2GRAY) for img in gif])\n",
    "    return imgs/np.max(imgs)\n",
    "\n",
    "##\n",
    "# down sample\n",
    "# https://stackoverflow.com/questions/34231244/downsampling-a-2d-numpy-array-in-python/34232507\n",
    "##\n",
    "def downsample(img_arr, factor):\n",
    "    return img_arr[:, ::factor, ::factor]\n",
    "\n",
    "#######\n",
    "\n",
    "################\n",
    "# read in data #\n",
    "################\n",
    "fname = \"btyMo96pc.gif\"\n",
    "\n",
    "im_gif = downsample(read_gif_data(fname), 5)\n",
    "\n",
    "num_frames, row, col = im_gif.shape\n",
    "\n",
    "fnum = 6\n",
    "im_gif_process = im_gif[fnum:fnum+2,:,:]\n"
   ]
  },
  {
   "cell_type": "code",
   "execution_count": null,
   "metadata": {},
   "outputs": [],
   "source": [
    "###################\n",
    "# Object Tracking #\n",
    "###################\n",
    "\n",
    "Obj_Track = Object_Tracker()\n",
    "Obj_Track.RUN_MOV_TRACK(im_gif)"
   ]
  },
  {
   "cell_type": "code",
   "execution_count": null,
   "metadata": {},
   "outputs": [],
   "source": [
    "path = \"C://Users//Michael//Desktop//CMU//CMU_Classwork//Fall 2021//mlsp//TEAM_PROJECT//code//scs\"\n",
    "path_end = \"/**/*.png\"\n",
    "files = glob.glob(path+path_end, recursive=True)\n",
    "files = files[:-1]\n"
   ]
  },
  {
   "cell_type": "code",
   "execution_count": null,
   "metadata": {},
   "outputs": [],
   "source": [
    "with imageio.get_writer(\"mygif.gif\", mode=\"I\") as w:\n",
    "    for pic in files:\n",
    "        image = imageio.imread(pic)\n",
    "        w.append_data(image)"
   ]
  },
  {
   "cell_type": "code",
   "execution_count": null,
   "metadata": {},
   "outputs": [],
   "source": []
  },
  {
   "cell_type": "code",
   "execution_count": null,
   "metadata": {},
   "outputs": [],
   "source": []
  },
  {
   "cell_type": "code",
   "execution_count": null,
   "metadata": {},
   "outputs": [],
   "source": []
  }
 ],
 "metadata": {
  "interpreter": {
   "hash": "69a98bfc44e952365ff1df32860ce9b133e10b9771a929e18a894d7fd185ebc7"
  },
  "kernelspec": {
   "display_name": "Python 3.6.8 64-bit ('tmp_venv': venv)",
   "language": "python",
   "name": "python3"
  },
  "language_info": {
   "codemirror_mode": {
    "name": "ipython",
    "version": 3
   },
   "file_extension": ".py",
   "mimetype": "text/x-python",
   "name": "python",
   "nbconvert_exporter": "python",
   "pygments_lexer": "ipython3",
   "version": "3.6.8"
  },
  "orig_nbformat": 4
 },
 "nbformat": 4,
 "nbformat_minor": 2
}
